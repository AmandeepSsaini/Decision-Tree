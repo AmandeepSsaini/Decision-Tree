{
 "cells": [
  {
   "cell_type": "code",
   "execution_count": 1,
   "metadata": {},
   "outputs": [],
   "source": [
    "#numpy\n",
    "import numpy as np\n",
    "from numpy import column_stack\n",
    "\n",
    "# pandas\n",
    "import pandas as pd\n",
    "\n",
    "# matplotlib\n",
    "import matplotlib.pyplot as plt\n",
    "\n",
    "import pickle \n",
    "\n",
    "# sklearn\n",
    "from sklearn.svm import SVC\n",
    "from sklearn.metrics.pairwise import polynomial_kernel\n",
    "from sklearn.model_selection import GridSearchCV, cross_val_score, train_test_split\n",
    "from sklearn.metrics import accuracy_score, confusion_matrix, classification_report\n",
    "from sklearn.preprocessing import LabelEncoder, OneHotEncoder, MinMaxScaler, RobustScaler\n",
    "\n",
    "# time\n",
    "import time\n",
    "\n",
    "# Ignore Warnings\n",
    "import sys\n",
    "import warnings\n",
    "if not sys.warnoptions:\n",
    "    warnings.simplefilter(\"ignore\")"
   ]
  },
  {
   "cell_type": "code",
   "execution_count": 2,
   "metadata": {},
   "outputs": [],
   "source": [
    "# Load Dataset\n",
    "\n",
    "train_fash_data = pd.read_csv('fashion-mnist_train.csv')\n",
    "test_fas_data = pd.read_csv('fashion-mnist_test.csv')"
   ]
  },
  {
   "cell_type": "code",
   "execution_count": 3,
   "metadata": {},
   "outputs": [
    {
     "data": {
      "text/plain": [
       "(48000, 784)"
      ]
     },
     "execution_count": 3,
     "metadata": {},
     "output_type": "execute_result"
    }
   ],
   "source": [
    "# Splitting Data Set\n",
    "\n",
    "X_train, X_val, Y_train, Y_val =  train_test_split(train_fash_data.drop('label', axis=1), train_fash_data['label'], test_size=0.2, random_state = 42, stratify =train_fash_data['label'])\n",
    "X_test = test_fas_data.drop('label', axis=1)\n",
    "Y_test = test_fas_data['label']\n",
    "X_train.shape"
   ]
  },
  {
   "cell_type": "code",
   "execution_count": 4,
   "metadata": {},
   "outputs": [],
   "source": [
    "X_train = X_train.iloc[40000:]\n",
    "X_test = X_test.iloc[5000:]\n",
    "Y_train = Y_train.iloc[40000:]\n",
    "Y_test = Y_test.iloc[5000:]\n",
    "X_val = X_val.iloc[5000:]\n",
    "Y_val = Y_val.iloc[5000:]"
   ]
  },
  {
   "cell_type": "code",
   "execution_count": 5,
   "metadata": {},
   "outputs": [],
   "source": [
    "# Scale data input features\n",
    "\n",
    "scaler = MinMaxScaler().fit(X_train)\n",
    "X_train = scaler.transform(X_train)\n",
    "X_test = scaler.transform(X_test)\n",
    "X_val = scaler.transform(X_val)\n",
    "\n",
    "# Onehot encode labels\n",
    "lab_scaler = LabelEncoder().fit(np.array(Y_train).reshape(-1,1))\n",
    "Y_train = lab_scaler.transform(np.array(Y_train).reshape(-1,1))\n",
    "Y_test = lab_scaler.transform(np.array(Y_test).reshape(-1,1))\n",
    "Y_val = lab_scaler.transform(np.array(Y_val).reshape(-1,1))"
   ]
  },
  {
   "cell_type": "code",
   "execution_count": 6,
   "metadata": {},
   "outputs": [],
   "source": [
    "def supp_vec_mac_lin():\n",
    "    \n",
    "    \n",
    "    train_input_acc ={}\n",
    "    test_input_acc = {}\n",
    "    val_input_acc = {}\n",
    "    train_acc_n_vec = {}\n",
    "    C = [0.0001, 0.001, 0.01, 0.1, 1, 10, 100, 1000, 10000]\n",
    "    \n",
    "    for c in C:\n",
    "        print('Model Evaluation for Value of : ', c)\n",
    "        model = SVC(C=c, kernel='linear', verbose=True)\n",
    "        model.fit(X_train, Y_train)\n",
    "        train_input_acc[c] = model.score(X_train, Y_train)\n",
    "        train_acc_n_vec[c] = model\n",
    "        test_input_acc[c] = model.score(X_test, Y_test)\n",
    "        val_input_acc[c] = model.score(X_val, Y_val)\n",
    "        \n",
    "    return train_input_acc, test_input_acc, val_input_acc, train_acc_n_vec"
   ]
  },
  {
   "cell_type": "code",
   "execution_count": 7,
   "metadata": {},
   "outputs": [],
   "source": [
    "def supportVec_plot(titl):\n",
    "    \n",
    "    supp_vec_train_lin_x, supp_vec_train_lin_y = zip(*sorted(train_acc_supp_vec_lin.items()))\n",
    "    supp_vec_test_lin_x, supp_vec_test_lin_y = zip(*sorted(test_acc_supp_vec_lin.items()))\n",
    "    supp_vec_val_lin_x, supp_vec_val_lin_y = zip(*sorted(val_acc_supp_vec_lin.items()))\n",
    "    \n",
    "    x = [1,2,3,4,5,6,7,8,9]\n",
    "    labels = ['0.0001', '0.001', '0.01', '0.1', '1', '10', '100', '1000', '10000']\n",
    "    train_acc_supp_vec_mac = [y * 100 for y in supp_vec_train_lin_y]\n",
    "    test_acc_supp_vec_mac = [y * 100 for y in supp_vec_test_lin_y]\n",
    "    val_acc_supp_vec_mac = [y * 100 for y in supp_vec_val_lin_y]\n",
    "    \n",
    "    plt.plot(x, train_acc_supp_vec_mac, 'ro', color='b', label='train' , linestyle='-')\n",
    "    plt.plot(x, test_acc_supp_vec_mac, 'ro', color='g', label ='test' , linestyle='-')\n",
    "    plt.plot(x, val_acc_supp_vec_mac, 'ro', color='y', label = 'val' , linestyle='-')\n",
    "    \n",
    "    plt.xticks(x, labels, rotation='vertical')\n",
    "    plt.margins(0.2)\n",
    "    plt.subplots_adjust(bottom=0.15)\n",
    "    plt.legend(loc='lower right')\n",
    "    plt.xlabel('Values of C')\n",
    "    plt.title(titl)\n",
    "    plt.ylabel('Model Accuracy')\n",
    "    plt.savefig(titl+'.jpg', dpi=300)\n",
    "    plt.show()    \n",
    "\n"
   ]
  },
  {
   "cell_type": "code",
   "execution_count": 8,
   "metadata": {},
   "outputs": [
    {
     "name": "stdout",
     "output_type": "stream",
     "text": [
      "Model Evaluation for Value of :  0.0001\n",
      "[LibSVM]Model Evaluation for Value of :  0.001\n",
      "[LibSVM]Model Evaluation for Value of :  0.01\n",
      "[LibSVM]Model Evaluation for Value of :  0.1\n",
      "[LibSVM]Model Evaluation for Value of :  1\n",
      "[LibSVM]Model Evaluation for Value of :  10\n",
      "[LibSVM]Model Evaluation for Value of :  100\n",
      "[LibSVM]Model Evaluation for Value of :  1000\n",
      "[LibSVM]Model Evaluation for Value of :  10000\n",
      "[LibSVM]Time estimated for model to run :  764.4780378341675\n"
     ]
    }
   ],
   "source": [
    "start = time.time()\n",
    "train_acc_supp_vec_lin, test_acc_supp_vec_lin, val_acc_supp_vec_lin, train_input_acc_supp_vec_lin = supp_vec_mac_lin( )\n",
    "print('Time estimated for model to run : ', time.time() - start)"
   ]
  },
  {
   "cell_type": "code",
   "execution_count": 9,
   "metadata": {},
   "outputs": [],
   "source": [
    "supp_vec_train_lin_x, supp_vec_train_lin_y = zip(*sorted(train_acc_supp_vec_lin.items()))\n",
    "supp_vec_test_lin_x, supp_vec_test_lin_y = zip(*sorted(test_acc_supp_vec_lin.items()))\n",
    "supp_vec_val_lin_x, supp_vec_val_lin_y = zip(*sorted(val_acc_supp_vec_lin.items()))\n",
    "\n",
    "train_acc_supp_vec_mac = [y * 100 for y in supp_vec_train_lin_y]\n",
    "test_acc_supp_vec_mac = [y * 100 for y in supp_vec_test_lin_y]\n",
    "val_acc_supp_vec_mac = [y * 100 for y in supp_vec_val_lin_y]"
   ]
  },
  {
   "cell_type": "code",
   "execution_count": 10,
   "metadata": {},
   "outputs": [
    {
     "data": {
      "image/png": "[encoded data removed]",
      "text/plain": [
       "<Figure size 432x288 with 1 Axes>"
      ]
     },
     "metadata": {
      "needs_background": "light"
     },
     "output_type": "display_data"
    }
   ],
   "source": [
    "supportVec_plot('Training, Testing and Val Set accuracy as function of C')"
   ]
  },
  {
   "cell_type": "code",
   "execution_count": 11,
   "metadata": {},
   "outputs": [
    {
     "data": {
      "image/png": "[encoded data removed]",
      "text/plain": [
       "<Figure size 432x288 with 1 Axes>"
      ]
     },
     "metadata": {
      "needs_background": "light"
     },
     "output_type": "display_data"
    }
   ],
   "source": [
    "Values_c =[]\n",
    "num_c_val = []\n",
    "for k,v in train_input_acc_supp_vec_lin.items():\n",
    "    Values_c.append(k)\n",
    "    num_c_val.append(len(v.support_))\n",
    "    \n",
    "x = [1,2,3,4,5,6,7,8,9]\n",
    "labels = Values_c\n",
    "\n",
    "plt.plot(x, num_c_val, 'ro', color='b', label='Total Support vectors' , linestyle='-')\n",
    "plt.xticks(x, labels, rotation='vertical')\n",
    "plt.margins(0.2)\n",
    "plt.subplots_adjust(bottom=0.15)\n",
    "plt.legend(loc='upper right')\n",
    "plt.xlabel('Values of C')\n",
    "plt.ylabel('Total Support Vectors')\n",
    "plt.title('Support Vectors Comparison of C')\n",
    "plt.savefig('Number of support vectors as a function of c.jpg', dpi=300)\n",
    "plt.show()  "
   ]
  },
  {
   "cell_type": "code",
   "execution_count": 12,
   "metadata": {},
   "outputs": [],
   "source": [
    "def SupportVec_b_machine(X_train, Y_train, x_tst, y_tst):\n",
    "    \n",
    "    model = SVC(kernel='linear', C=10000)\n",
    "    model.fit(x_train, y_train)\n",
    "    results = model.predict(test_acc_supp_vec_mac)\n",
    "    print(confusion_matrix(test_acc_supp_vec_mac, results))"
   ]
  },
  {
   "cell_type": "code",
   "execution_count": 13,
   "metadata": {},
   "outputs": [],
   "source": [
    "# Combine training and validation set\n",
    "Comb_train_data_X_ =  np.concatenate((X_train, X_val), axis=0)\n",
    "Comb_train_data_X_ = np.concatenate((Y_train, Y_val), axis=0)"
   ]
  },
  {
   "cell_type": "code",
   "execution_count": 14,
   "metadata": {},
   "outputs": [],
   "source": [
    "# svm_b(comb_X_data, comb_Y_data, X_test, Y_test)"
   ]
  },
  {
   "cell_type": "code",
   "execution_count": 15,
   "metadata": {},
   "outputs": [],
   "source": [
    "def Poly_supp_vec_mac(k_type, i):\n",
    "    \n",
    "    model = SVC(kernel=k_type, C=10000, degree=i)\n",
    "    model.fit(X_train, Y_train)\n",
    "    \n",
    "    return model"
   ]
  },
  {
   "cell_type": "code",
   "execution_count": 16,
   "metadata": {},
   "outputs": [],
   "source": [
    "model_lin_supp_2_vec = Poly_supp_vec_mac(k_type='linear', i=2)\n",
    "model_poly_supp_2_vec = Poly_supp_vec_mac(k_type='poly', i=2)\n",
    "model_poly_supp_3_vec = Poly_supp_vec_mac(k_type='poly', i=3)\n",
    "model_poly_supp_4_vec = Poly_supp_vec_mac(k_type='poly', i=4)"
   ]
  },
  {
   "cell_type": "code",
   "execution_count": 17,
   "metadata": {},
   "outputs": [],
   "source": [
    "supportVec_test_model = {}\n",
    "supportVec_train_model = {}\n",
    "supportVec_val_model = {}\n",
    "\n",
    "supportVec_train_model['linear_2'] = model_lin_supp_2_vec.score(X_train, Y_train)\n",
    "supportVec_test_model['linear_2'] = model_lin_supp_2_vec.score(X_test, Y_test)\n",
    "supportVec_val_model['linear_2'] = model_lin_supp_2_vec.score(X_val, Y_val)\n",
    "\n",
    "supportVec_train_model['poly_2'] = model_poly_supp_2_vec.score(X_train, Y_train)\n",
    "supportVec_test_model['poly_2'] = model_poly_supp_2_vec.score(X_test, Y_test)\n",
    "supportVec_val_model['poly_2'] = model_poly_supp_2_vec.score(X_val, Y_val)\n",
    "\n",
    "supportVec_train_model['poly_3'] = model_poly_supp_3_vec.score(X_train, Y_train)\n",
    "supportVec_test_model['poly_3'] = model_poly_supp_3_vec.score(X_test, Y_test)\n",
    "supportVec_val_model['poly_3'] = model_poly_supp_3_vec.score(X_val, Y_val)\n",
    "\n",
    "supportVec_train_model['poly_4'] = model_poly_supp_4_vec.score(X_train, Y_train)\n",
    "supportVec_test_model['poly_4'] = model_poly_supp_4_vec.score(X_test, Y_test)\n",
    "supportVec_val_model['poly_4'] = model_poly_supp_4_vec.score(X_val, Y_val)"
   ]
  },
  {
   "cell_type": "code",
   "execution_count": 18,
   "metadata": {},
   "outputs": [],
   "source": [
    "def plot_poly_supp_vec_mac(titl):\n",
    "    \n",
    "    x_train_poly_supp, y_train_poly_supp = zip(*sorted(supportVec_train_model.items()))\n",
    "    x_test_poly_supp, y_test_poly_supp = zip(*sorted(supportVec_test_model.items()))\n",
    "    x_val_poly_supp, y_val_poly_supp = zip(*sorted(supportVec_val_model.items()))\n",
    "    \n",
    "    x = [1, 2, 3, 4]\n",
    "    poly_train_supp = [y * 100 for y in y_train_poly_supp]\n",
    "    poly_test_supp = [y * 100 for y in y_test_poly_supp]\n",
    "    poly_val_supp = [y * 100 for y in y_val_poly_supp]\n",
    "    \n",
    "    labels = x_train_poly_supp\n",
    "    \n",
    "    plt.plot(x, poly_train_supp, 'ro', color='b', label='train' , linestyle='-')\n",
    "    plt.plot(x, poly_test_supp, 'ro', color='g', label ='test' , linestyle='-')\n",
    "    plt.plot(x, poly_val_supp, 'ro', color='y', label = 'dev' , linestyle='-')\n",
    "    \n",
    "    plt.xticks(x, labels, rotation='vertical')\n",
    "    plt.margins(0.2)\n",
    "    plt.subplots_adjust(bottom=0.15)\n",
    "    plt.legend(loc='lower right')\n",
    "    plt.xlabel('Kernel Settings')\n",
    "    plt.title(titl)\n",
    "    plt.ylabel('Accuracy')\n",
    "    plt.savefig(titl+'.jpg', dpi=300)\n",
    "    plt.show()  "
   ]
  },
  {
   "cell_type": "code",
   "execution_count": 19,
   "metadata": {},
   "outputs": [
    {
     "data": {
      "image/png": "[encoded data removed]",
      "text/plain": [
       "<Figure size 432x288 with 1 Axes>"
      ]
     },
     "metadata": {
      "needs_background": "light"
     },
     "output_type": "display_data"
    }
   ],
   "source": [
    "plot_poly_supp_vec_mac('The Accuracy of the Train, Test, and Validation dataset with diffrent Kernel Setting')"
   ]
  },
  {
   "cell_type": "code",
   "execution_count": 37,
   "metadata": {},
   "outputs": [],
   "source": [
    "def sign(num):\n",
    "    return +1 if num>0 else -1\n",
    "\n",
    "def r_y_kernel(row, aph, df_arr):\n",
    "    \n",
    "    ind_o = np.where(aph != 0)\n",
    "    score = 0\n",
    "    \n",
    "    for t_i, ind in zip(aph[ind_o], ind_o):\n",
    "        x_i = df_arr[int(ind[0])]\n",
    "        score += np.sum(t_i * ((1 + np.dot(row, x_i)) ** 3))\n",
    "        \n",
    "    return -1 if score < 0 else 1"
   ]
  },
  {
   "cell_type": "code",
   "execution_count": 43,
   "metadata": {},
   "outputs": [],
   "source": [
    "def perceptron_kernel_multi(deg, epochs):\n",
    "    \n",
    "    kernel_train_acc = []\n",
    "    kernel_test_acc = []\n",
    "    kernel_val_acc = []\n",
    "    alpha = np.zeros(shape=(X_train.shape[0])) \n",
    "    cou_ker_mis_epochs = {}\n",
    "    \n",
    "    # compute gram matrix\n",
    "    print('Gram Matrix Computation')\n",
    "    gm = polynomial_kernel(X_train, degree=deg)\n",
    "    print('Computation Completed')\n",
    "    \n",
    "    for i in range(epochs):\n",
    "        \n",
    "        Ba_mistakes_cal = 0\n",
    "        \n",
    "        for j in range(X_train.shape[0]):\n",
    "            \n",
    "            y_pred = np.sign(np.sum(np.dot(gm[:,j], alpha)))\n",
    "            \n",
    "            if y_pred == 0:\n",
    "                y_pred = -1\n",
    "            \n",
    "            if y_pred != Y_train[j]:\n",
    "                \n",
    "                Ba_mistakes_cal +=1\n",
    "                \n",
    "                alpha[j] += Y_train[j]\n",
    "                \n",
    "        cou_ker_mis_epochs[i+1] = Ba_mistakes_cal\n",
    "        \n",
    "    for tr in range(len(X_test)):\n",
    "            kernel_test_acc.append(np.sign(r_y_kernel(X_test[tr], alpha, X_test)))\n",
    "    \n",
    "    kernel_per_acc_test = accuracy_score(Y_test, np.array(kernel_test_acc))      \n",
    "    for tr in range(len(X_train)):\n",
    "            kernel_train_acc.append(np.sign(r_y_kernel(X_train[tr], alpha, X_train)))\n",
    "            \n",
    "    kernel_per_acc_train = accuracy_score(Y_train, np.array(kernel_train_acc))      \n",
    "    for tr in range(len(X_val)):\n",
    "            kernel_val_acc.append(np.sign(r_y_kernel(X_val[tr], alpha, X_val)))\n",
    "            \n",
    "    kernel_per_acc_val = accuracy_score(Y_val, np.array(kernel_val_acc))\n",
    "  \n",
    "    return cou_ker_mis_epochs, kernel_test_acc, kernel_train_acc, kernel_val_acc"
   ]
  },
  {
   "cell_type": "code",
   "execution_count": 44,
   "metadata": {},
   "outputs": [
    {
     "name": "stdout",
     "output_type": "stream",
     "text": [
      "Gram Matrix Computation\n",
      "Computation Completed\n"
     ]
    }
   ],
   "source": [
    "kernel_per_err_count, kernel_per_acc_train, kernel_per_acc_test, kernel_per_acc_val = perceptron_kernel_multi(3, 5)"
   ]
  },
  {
   "cell_type": "code",
   "execution_count": 45,
   "metadata": {},
   "outputs": [],
   "source": [
    "def plot_kp_mistakes(num_mis):\n",
    "    \n",
    "    # get results of standard perceptron\n",
    "    x,  y = zip(*sorted(num_mis.items()))\n",
    "    \n",
    "    \n",
    "    plt.plot(x, y, label='Number of Mistakes', marker='o')\n",
    "    plt.xticks(np.linspace(1, 5 , 5))\n",
    "    plt.xlabel('Number Of Epochs')\n",
    "    plt.ylabel('Number of mistakes')\n",
    "    plt.legend(loc='upper middle')\n",
    "    plt.title('Number of mistakes per epoch in kernalized perceptron ')\n",
    "    plt.savefig('num_mistakes_sp_vs_avp.jpg', dpi=300)\n",
    "    plt.show()"
   ]
  },
  {
   "cell_type": "code",
   "execution_count": 30,
   "metadata": {},
   "outputs": [
    {
     "data": {
      "image/png": "[encoded data removed]",
      "text/plain": [
       "<Figure size 432x288 with 1 Axes>"
      ]
     },
     "metadata": {
      "needs_background": "light"
     },
     "output_type": "display_data"
    }
   ],
   "source": [
    "plot_kp_mistakes(kernel_per_err_count)"
   ]
  },
  {
   "cell_type": "code",
   "execution_count": 1,
   "metadata": {},
   "outputs": [
    {
     "ename": "NameError",
     "evalue": "name 'kernel_per_acc_train' is not defined",
     "output_type": "error",
     "traceback": [
      "\u001b[0;31m---------------------------------------------------------------------------\u001b[0m",
      "\u001b[0;31mNameError\u001b[0m                                 Traceback (most recent call last)",
      "\u001b[0;32m<ipython-input-1-1120633e13f0>\u001b[0m in \u001b[0;36m<module>\u001b[0;34m\u001b[0m\n\u001b[0;32m----> 1\u001b[0;31m \u001b[0mprint\u001b[0m\u001b[0;34m(\u001b[0m\u001b[0;34m'Kernilized perceptron Accuracy Train %.2f '\u001b[0m \u001b[0;34m%\u001b[0m\u001b[0;34m(\u001b[0m\u001b[0mkernel_per_acc_train\u001b[0m\u001b[0;34m*\u001b[0m\u001b[0;36m1000\u001b[0m\u001b[0;34m)\u001b[0m\u001b[0;34m)\u001b[0m\u001b[0;34m\u001b[0m\u001b[0;34m\u001b[0m\u001b[0m\n\u001b[0m\u001b[1;32m      2\u001b[0m \u001b[0mprint\u001b[0m\u001b[0;34m(\u001b[0m\u001b[0;34m'Kernelized perceptron accuracy Test %.2f '\u001b[0m \u001b[0;34m%\u001b[0m\u001b[0;34m(\u001b[0m\u001b[0mkernel_per_acc_test\u001b[0m\u001b[0;34m*\u001b[0m\u001b[0;36m1000\u001b[0m\u001b[0;34m)\u001b[0m\u001b[0;34m)\u001b[0m\u001b[0;34m\u001b[0m\u001b[0;34m\u001b[0m\u001b[0m\n\u001b[1;32m      3\u001b[0m \u001b[0mprint\u001b[0m\u001b[0;34m(\u001b[0m\u001b[0;34m'kernelized Accuracy on Validation data %.2f '\u001b[0m \u001b[0;34m%\u001b[0m\u001b[0;34m(\u001b[0m\u001b[0mkernel_per_acc_val\u001b[0m\u001b[0;34m*\u001b[0m\u001b[0;36m1000\u001b[0m\u001b[0;34m)\u001b[0m\u001b[0;34m)\u001b[0m\u001b[0;34m\u001b[0m\u001b[0;34m\u001b[0m\u001b[0m\n",
      "\u001b[0;31mNameError\u001b[0m: name 'kernel_per_acc_train' is not defined"
     ]
    }
   ],
   "source": [
    "# print('Kernilized perceptron Accuracy Train %.2f ' %(kernel_per_acc_train*100))\n",
    "# print('Kernelized perceptron accuracy Test %.2f ' %(kernel_per_acc_test*100))\n",
    "# print('kernelized Accuracy on Validation data %.2f ' %(kernel_per_acc_val*100))"
   ]
  },
  {
   "cell_type": "code",
   "execution_count": null,
   "metadata": {},
   "outputs": [],
   "source": []
  }
 ],
 "metadata": {
  "kernelspec": {
   "display_name": "Python 3",
   "language": "python",
   "name": "python3"
  },
  "language_info": {
   "codemirror_mode": {
    "name": "ipython",
    "version": 3
   },
   "file_extension": ".py",
   "mimetype": "text/x-python",
   "name": "python",
   "nbconvert_exporter": "python",
   "pygments_lexer": "ipython3",
   "version": "3.7.3"
  }
 },
 "nbformat": 4,
 "nbformat_minor": 2
}
