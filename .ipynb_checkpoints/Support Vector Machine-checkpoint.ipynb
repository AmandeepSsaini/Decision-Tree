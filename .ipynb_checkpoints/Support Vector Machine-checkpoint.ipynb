{
 "cells": [
  {
   "cell_type": "code",
   "execution_count": 7,
   "metadata": {},
   "outputs": [],
   "source": [
    "#numpy\n",
    "import numpy as np\n",
    "from numpy import column_stack\n",
    "\n",
    "# pandas\n",
    "import pandas as pd\n",
    "\n",
    "# matplotlib\n",
    "import matplotlib.pyplot as plt\n",
    "\n",
    "import pickle \n",
    "\n",
    "# sklearn\n",
    "from sklearn.svm import SVC\n",
    "from sklearn.metrics.pairwise import polynomial_kernel\n",
    "from sklearn.model_selection import GridSearchCV, cross_val_score, train_test_split\n",
    "from sklearn.metrics import accuracy_score, confusion_matrix, classification_report\n",
    "from sklearn.preprocessing import LabelEncoder, OneHotEncoder, MinMaxScaler, RobustScaler\n",
    "\n",
    "# time\n",
    "import time\n",
    "\n",
    "# Ignore Warnings\n",
    "import sys\n",
    "import warnings\n",
    "if not sys.warnoptions:\n",
    "    warnings.simplefilter(\"ignore\")"
   ]
  },
  {
   "cell_type": "code",
   "execution_count": 47,
   "metadata": {},
   "outputs": [],
   "source": [
    "train_fash_data = pd.read_csv('fashion-mnist_train.csv')\n",
    "# train_fash_data['label'] = train_fash_data['label'] % 2\n",
    "test_fas_data = pd.read_csv('fashion-mnist_test.csv')"
   ]
  },
  {
   "cell_type": "code",
   "execution_count": 48,
   "metadata": {},
   "outputs": [],
   "source": [
    "X_train, X_val, y_train, y_val =  train_test_split(train_fash_data.drop('label', axis=1), train_fash_data['label'], test_size=0.33, random_state=42, stratify =train_fash_data['label'])"
   ]
  },
  {
   "cell_type": "code",
   "execution_count": 49,
   "metadata": {},
   "outputs": [],
   "source": [
    "X_test = test_fas_data.drop('label', axis=1)\n",
    "y_test = test_fas_data['label']"
   ]
  },
  {
   "cell_type": "code",
   "execution_count": 50,
   "metadata": {},
   "outputs": [],
   "source": [
    "# Scale data input features\n",
    "scaler = RobustScaler().fit(X_train)\n",
    "X_train = scaler.transform(X_train)\n",
    "X_test = scaler.transform(X_test)\n",
    "X_val = scaler.transform(X_val)"
   ]
  },
  {
   "cell_type": "code",
   "execution_count": 51,
   "metadata": {},
   "outputs": [],
   "source": [
    "# # Onehot encode labels\n",
    "# lab_scaler = LabelEncoder().fit(np.array(y_train).reshape(-1,1))\n",
    "# y_train = lab_scaler.transform(np.array(y_train).reshape(-1,1))\n",
    "# y_test = lab_scaler.transform(np.array(y_test).reshape(-1,1))\n",
    "# y_val = lab_scaler.transform(np.array(y_val).reshape(-1,1))\n",
    "\n",
    "# cat_scaler = OneHotEncoder().fit(np.array(y_train).reshape(-1,1))\n",
    "# y_train = cat_scaler.transform(np.array(y_train).reshape(-1,1))\n",
    "# y_test = cat_scaler.transform(np.array(y_test).reshape(-1,1))\n",
    "# y_val = cat_scaler.transform(np.array(y_val).reshape(-1,1))"
   ]
  },
  {
   "cell_type": "code",
   "execution_count": 53,
   "metadata": {},
   "outputs": [],
   "source": [
    "def svm_a():\n",
    "    \n",
    "    C = [0.0001, 0.001, 0.01, 0.1, 1 , 10, 100, 1000, 10000]\n",
    "    \n",
    "    train_acc ={}\n",
    "    test_acc = {}\n",
    "    dev_acc = {}\n",
    "    train_acc_n_vec = {}\n",
    "    \n",
    "    for c in C:\n",
    "        print('Evaluating Model for : ', c)\n",
    "        model = SVC(C=c, kernel='linear', verbose=True)\n",
    "        model.fit(X_train, y_train)\n",
    "        \n",
    "        train_acc[c] = model.score(X_train, y_train)\n",
    "        train_acc_n_vec[c] = model\n",
    "        test_acc[c] = model.score(X_test, y_test)\n",
    "        val_acc[c] = model.score(X_val, y_val)\n",
    "        \n",
    "    return train_acc, test_acc, val_acc, train_acc_n_vec"
   ]
  },
  {
   "cell_type": "code",
   "execution_count": null,
   "metadata": {},
   "outputs": [
    {
     "name": "stdout",
     "output_type": "stream",
     "text": [
      "Evaluating Model for :  0.0001\n",
      "[LibSVM]"
     ]
    }
   ],
   "source": [
    "start = time.time()\n",
    "train_acc_svma, test_acc_svma, dev_acc_svma, train_num_vec = svm_a( )\n",
    "print('Time taken : ', time.time() - start)"
   ]
  },
  {
   "cell_type": "code",
   "execution_count": null,
   "metadata": {},
   "outputs": [],
   "source": [
    "def plot_svma(titl):\n",
    "    \n",
    "    x_train_svma, y_train_svma = zip(*sorted(train_acc_svma.items()))\n",
    "    x_test_svma, y_test_svma = zip(*sorted(test_acc_svma.items()))\n",
    "    x_dev_svma, y_dev_svma = zip(*sorted(dev_acc_svma.items()))\n",
    "    \n",
    "    x = [1, 2, 3, 4, 5, 6 ,7, 8, 9]\n",
    "    y_tr = [y * 100 for y in y_train_svma]\n",
    "    y_tst = [y * 100 for y in y_test_svma]\n",
    "    y_dev = [y * 100 for y in y_dev_svma]\n",
    "    \n",
    "    labels = ['0.0001', '0.001', '0.01', '0.1', '1', '10', '100', '1000', '10000']\n",
    "    \n",
    "    plt.plot(x, y_tr, 'ro', color='b', label='train' , linestyle='-')\n",
    "    plt.plot(x, y_tst, 'ro', color='g', label ='test' , linestyle='-')\n",
    "    plt.plot(x, y_dev, 'ro', color='y', label = 'dev' , linestyle='-')\n",
    "    \n",
    "    plt.xticks(x, labels, rotation='vertical')\n",
    "    plt.margins(0.2)\n",
    "    plt.subplots_adjust(bottom=0.15)\n",
    "    plt.legend(loc='lower right')\n",
    "    plt.xlabel('Values of C')\n",
    "    plt.title(titl)\n",
    "    plt.ylabel('Accuracy')\n",
    "    plt.savefig(titl+'.jpg', dpi=300)\n",
    "    plt.show()    \n",
    "\n",
    "plot_svma('Training, Testing and Dev Set accuracy as function of C')"
   ]
  },
  {
   "cell_type": "code",
   "execution_count": null,
   "metadata": {
    "scrolled": true
   },
   "outputs": [],
   "source": [
    "m_scaler = RobustScaler().fit(np.array(train_X[col]).reshape(-1,1))\n",
    "train_feature = m_scaler.transform(np.array(train_fash_data[col]).reshape(-1,1))\n",
    "train_feature = train_feature.reshape(train_X.shape[0], 1)"
   ]
  },
  {
   "cell_type": "code",
   "execution_count": null,
   "metadata": {},
   "outputs": [],
   "source": [
    "train_fash_data = np.array(train_fash_data) \n",
    "m_scaler = RobustScaler().fit(np.array(train_fash_data[:, :]).reshape(-1,1))\n",
    "train_feature = m_scaler.transform(np.array(train_fash_data[:, :]).reshape(-1,1))\n",
    "x_train ,x_test = train_test_split(train_feature,test_size=0.2)"
   ]
  },
  {
   "cell_type": "code",
   "execution_count": null,
   "metadata": {},
   "outputs": [],
   "source": [
    "x_test"
   ]
  },
  {
   "cell_type": "code",
   "execution_count": null,
   "metadata": {},
   "outputs": [],
   "source": [
    "test_fash_data = pd.read_csv('fashion-mnist_test.csv')\n",
    "test_label = test_fash_data['label']\n",
    "test_inputs = test_fash_data.drop('label', axis=1)\n",
    "test_fash_data.head()\n",
    "input_test = test_inputs.iloc[:, :].values\n",
    "for i in range(len(test_label)):\n",
    "    if test_label[i]==1:\n",
    "        test_label[i]=-1\n",
    "    else:\n",
    "        test_label[i]=1"
   ]
  },
  {
   "cell_type": "code",
   "execution_count": null,
   "metadata": {},
   "outputs": [],
   "source": [
    "def train_svm(X, Y, c):\n",
    "    train_accs = []\n",
    "    test_accs = []\n",
    "    accuracy = {}\n",
    "\n",
    "    for i in c:\n",
    "        linear_kernel = SVC(C=i, kernel='linear')\n",
    "        linear_kernel.fit(X[0], Y[0])\n",
    "        score_train = linear_kernel.score(X[0], Y[0])\n",
    "        score_test = linear_kernel.score(X[1], Y[1])\n",
    "        train_accs.append(score_train)\n",
    "        test_accs.append(score_test)\n",
    "\n",
    "        print(\"i = {}, time takes = {} min\".format(i, (end - start) / 60), file=f)\n",
    "\n",
    "    best_acc = [key for (key, value) in accuracy.items() if value == max(accuracy.values())][0]\n",
    "\n",
    "    return best_acc, train_accs, test_accs"
   ]
  },
  {
   "cell_type": "code",
   "execution_count": null,
   "metadata": {},
   "outputs": [],
   "source": [
    "c = [10**-4, 10**-3, 10**-2, 10**-1, 1, 10, 10**2, 10**3, 10**4]"
   ]
  },
  {
   "cell_type": "code",
   "execution_count": null,
   "metadata": {},
   "outputs": [],
   "source": [
    "train_svm(x_train, x_test, c)"
   ]
  },
  {
   "cell_type": "code",
   "execution_count": null,
   "metadata": {},
   "outputs": [],
   "source": []
  }
 ],
 "metadata": {
  "kernelspec": {
   "display_name": "Python 3",
   "language": "python",
   "name": "python3"
  },
  "language_info": {
   "codemirror_mode": {
    "name": "ipython",
    "version": 3
   },
   "file_extension": ".py",
   "mimetype": "text/x-python",
   "name": "python",
   "nbconvert_exporter": "python",
   "pygments_lexer": "ipython3",
   "version": "3.7.3"
  }
 },
 "nbformat": 4,
 "nbformat_minor": 2
}
