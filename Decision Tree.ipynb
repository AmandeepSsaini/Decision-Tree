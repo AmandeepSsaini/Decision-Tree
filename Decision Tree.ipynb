{
 "cells": [
  {
   "cell_type": "code",
   "execution_count": 1,
   "metadata": {},
   "outputs": [],
   "source": [
    "# numpy\n",
    "import numpy as np\n",
    "from numpy import column_stack\n",
    "\n",
    "# pandas\n",
    "import pandas as pd\n",
    "\n",
    "# matplotlib \n",
    "import matplotlib.pyplot as plt\n",
    "\n",
    "\n",
    "# sklearn\n",
    "from sklearn.metrics import accuracy_score\n",
    "from sklearn.preprocessing import LabelEncoder, OneHotEncoder, MinMaxScaler, RobustScaler\n",
    "from sklearn.model_selection import train_test_split\n",
    "\n",
    "# sklearn\n",
    "from sklearn.svm import SVC\n",
    "from sklearn.metrics.pairwise import polynomial_kernel\n",
    "from sklearn.model_selection import GridSearchCV, cross_val_score, train_test_split\n",
    "from sklearn.metrics import accuracy_score, confusion_matrix, classification_report\n",
    "from sklearn.preprocessing import LabelEncoder, OneHotEncoder, MinMaxScaler, RobustScaler\n",
    "from sklearn.tree import DecisionTreeClassifier\n",
    "\n",
    "# time\n",
    "import time\n",
    "\n",
    "# Ignore Warnings\n",
    "import sys\n",
    "import warnings\n",
    "if not sys.warnoptions:\n",
    "    warnings.simplefilter(\"ignore\")"
   ]
  },
  {
   "cell_type": "code",
   "execution_count": 2,
   "metadata": {},
   "outputs": [],
   "source": [
    "wis_bre_can_data = pd.read_csv('wisconson-breast-cancer.csv').drop(['id', 'Unnamed: 32'], axis=1)"
   ]
  },
  {
   "cell_type": "code",
   "execution_count": 3,
   "metadata": {},
   "outputs": [
    {
     "data": {
      "text/plain": [
       "(569, 31)"
      ]
     },
     "execution_count": 3,
     "metadata": {},
     "output_type": "execute_result"
    }
   ],
   "source": [
    "wis_bre_can_data.shape"
   ]
  },
  {
   "cell_type": "code",
   "execution_count": 4,
   "metadata": {},
   "outputs": [],
   "source": [
    "def split(df):\n",
    "    \n",
    "    train_point = int(df.shape[0] * 70 / 100)\n",
    "    val_point = train_point + int(df.shape[0] * 0.10)\n",
    "    \n",
    "    bre_train_data_x = df.iloc[:train_point,:].drop('diagnosis', axis=1)\n",
    "    bre_train_data_y = df.iloc[:train_point,:]['diagnosis']\n",
    "\n",
    "    \n",
    "    bre_val_data_x = df.iloc[train_point:val_point,:].drop('diagnosis', axis=1)\n",
    "    bre_val_data_y = df.iloc[train_point:val_point,:]['diagnosis']\n",
    "    \n",
    "    bre_test_data_x = df.iloc[val_point:,:].drop('diagnosis', axis=1)\n",
    "    bre_test_data_y = df.iloc[val_point:,:]['diagnosis']\n",
    "    \n",
    "    return bre_train_data_x, bre_train_data_y, bre_val_data_x, bre_val_data_y, bre_test_data_x, bre_test_data_y"
   ]
  },
  {
   "cell_type": "code",
   "execution_count": 5,
   "metadata": {},
   "outputs": [],
   "source": [
    "bre_train_data_x, bre_train_data_y, bre_val_data_x, bre_val_data_y, bre_test_data_x, bre_test_data_y = split(wis_bre_can_data)"
   ]
  },
  {
   "cell_type": "code",
   "execution_count": 6,
   "metadata": {},
   "outputs": [],
   "source": [
    "# Scale data input features\n",
    "scaler = MinMaxScaler().fit(bre_train_data_x)\n",
    "bre_train_data_x = scaler.transform(bre_train_data_x)\n",
    "bre_test_data_x = scaler.transform(bre_test_data_x)\n",
    "bre_val_data_x = scaler.transform(bre_val_data_x)"
   ]
  },
  {
   "cell_type": "code",
   "execution_count": 7,
   "metadata": {},
   "outputs": [],
   "source": [
    "# wis_bre_can_data.info()"
   ]
  },
  {
   "cell_type": "code",
   "execution_count": 8,
   "metadata": {},
   "outputs": [],
   "source": [
    "model = DecisionTreeClassifier(criterion='entropy', random_state=4)"
   ]
  },
  {
   "cell_type": "code",
   "execution_count": 9,
   "metadata": {},
   "outputs": [],
   "source": [
    "fitted_model = model.fit(bre_train_data_x, bre_train_data_y)\n",
    "fitted_model_val = model.fit(bre_val_data_x, bre_val_data_y)\n",
    "fitted_model_test = model.fit(bre_test_data_x, bre_test_data_y)"
   ]
  },
  {
   "cell_type": "code",
   "execution_count": 10,
   "metadata": {},
   "outputs": [],
   "source": [
    "train_pred_data = fitted_model.predict(bre_train_data_x)\n",
    "test_pred_data = fitted_model.predict(bre_test_data_x)\n",
    "val_pred_data = fitted_model.predict(bre_val_data_x)"
   ]
  },
  {
   "cell_type": "code",
   "execution_count": 11,
   "metadata": {},
   "outputs": [
    {
     "name": "stdout",
     "output_type": "stream",
     "text": [
      "Testing Data Accuracy by Decision Tree 100.00 %\n",
      "Training Data Accuracy by Decision Tree 90.70 %\n",
      "Validation Data Accuracy by Decision Tree 91.07 %\n"
     ]
    }
   ],
   "source": [
    "print('Testing Data Accuracy by Decision Tree %.2f %%' % (accuracy_score(bre_test_data_y, test_pred_data) * 100)) \n",
    "\n",
    "print('Training Data Accuracy by Decision Tree %.2f %%' % (accuracy_score(bre_train_data_y, train_pred_data) * 100)) \n",
    "\n",
    "print('Validation Data Accuracy by Decision Tree %.2f %%' % (accuracy_score(bre_val_data_y, val_pred_data) * 100)) "
   ]
  },
  {
   "cell_type": "code",
   "execution_count": 12,
   "metadata": {},
   "outputs": [],
   "source": [
    "t_depth = model.tree_.max_depth"
   ]
  },
  {
   "cell_type": "code",
   "execution_count": 13,
   "metadata": {},
   "outputs": [],
   "source": [
    "accuracy_train_data = {}\n",
    "accuracy_test_data = {}\n",
    "accuracy_val_data = {}\n",
    "for i in range(0, t_depth):\n",
    "    prune_model = DecisionTreeClassifier(criterion='entropy', random_state=4, max_depth=t_depth-i).fit(bre_train_data_x, bre_train_data_y)\n",
    "    \n",
    "    accuracy_train_data[t_depth-i] = 1 - accuracy_score(prune_model.predict(bre_train_data_x), bre_train_data_y)\n",
    "    accuracy_test_data[t_depth-i] = 1 - accuracy_score(prune_model.predict(bre_test_data_x), bre_test_data_y) \n",
    "    accuracy_val_data[t_depth-i] = 1 - accuracy_score(prune_model.predict(bre_val_data_x), bre_val_data_y)"
   ]
  },
  {
   "cell_type": "code",
   "execution_count": 14,
   "metadata": {},
   "outputs": [],
   "source": [
    "data_label_so_accu_x, data_label_so_accu_y   = zip(*sorted(accuracy_train_data.items()))\n",
    "test_label_so_accu_x,  test_label_so_accu_y = zip(*sorted(accuracy_test_data.items()))\n",
    "val_label_so_accu_x,  val_label_so_accu_y = zip(*sorted(accuracy_val_data.items()))"
   ]
  },
  {
   "cell_type": "code",
   "execution_count": 17,
   "metadata": {},
   "outputs": [
    {
     "data": {
      "image/png": "[encoded data removed]",
      "text/plain": [
       "<Figure size 432x288 with 1 Axes>"
      ]
     },
     "metadata": {
      "needs_background": "light"
     },
     "output_type": "display_data"
    }
   ],
   "source": [
    "plt.plot(data_label_so_accu_x, data_label_so_accu_y, label= ' Training error', marker='x')\n",
    "plt.plot(test_label_so_accu_x,  test_label_so_accu_y, label= 'Testing error', marker='.')\n",
    "plt.plot(val_label_so_accu_x,  val_label_so_accu_y, label=  'Validation error', marker='p')\n",
    "plt.legend(loc='center right')\n",
    "plt.ylabel('Error')\n",
    "plt.xlabel('Depth')\n",
    "plt.title('Decision Tree')\n",
    "plt.savefig('tree_depth_error_new.jpg', dpi=300)\n",
    "plt.show()"
   ]
  },
  {
   "cell_type": "code",
   "execution_count": null,
   "metadata": {},
   "outputs": [],
   "source": []
  }
 ],
 "metadata": {
  "kernelspec": {
   "display_name": "Python 3",
   "language": "python",
   "name": "python3"
  },
  "language_info": {
   "codemirror_mode": {
    "name": "ipython",
    "version": 3
   },
   "file_extension": ".py",
   "mimetype": "text/x-python",
   "name": "python",
   "nbconvert_exporter": "python",
   "pygments_lexer": "ipython3",
   "version": "3.7.3"
  }
 },
 "nbformat": 4,
 "nbformat_minor": 2
}
